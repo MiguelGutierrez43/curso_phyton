{
 "cells": [
  {
   "cell_type": "markdown",
   "id": "3dbc2df5",
   "metadata": {},
   "source": [
    "# Strings"
   ]
  },
  {
   "cell_type": "markdown",
   "id": "c3d96df5",
   "metadata": {},
   "source": [
    "### 1. ¿Qué es un string?"
   ]
  },
  {
   "cell_type": "markdown",
   "id": "24d3db56",
   "metadata": {},
   "source": [
    "Un **string** se corresponde con un conjunto de caracteres que forman una cadena de texto.\n",
    "\n",
    "La sintaxis que debemos utilizar para definir strings en Python consiste en situar los caracteres entre `\"` o `'`"
   ]
  },
  {
   "cell_type": "code",
   "execution_count": 1,
   "id": "f6a84836",
   "metadata": {},
   "outputs": [],
   "source": [
    "var = \"Esto es un String\""
   ]
  },
  {
   "cell_type": "code",
   "execution_count": 2,
   "id": "2072c7a3",
   "metadata": {},
   "outputs": [],
   "source": [
    "var2 = 'Esto es un String'"
   ]
  },
  {
   "cell_type": "markdown",
   "id": "33356490",
   "metadata": {},
   "source": [
    "La flexibilidad de definir string con el caracter `\"` y el caracter `'` nos permite definir cadenas de texto que contienen esos mismos caracteres."
   ]
  },
  {
   "cell_type": "code",
   "execution_count": 5,
   "id": "131daf8b",
   "metadata": {},
   "outputs": [],
   "source": [
    "var = \"Los string pueden definirse con el caracter '' \""
   ]
  },
  {
   "cell_type": "code",
   "execution_count": 6,
   "id": "16ee5c6e",
   "metadata": {},
   "outputs": [
    {
     "name": "stdout",
     "output_type": "stream",
     "text": [
      "Los string pueden definirse con el caracter '' \n"
     ]
    }
   ],
   "source": [
    "print(var)"
   ]
  },
  {
   "cell_type": "code",
   "execution_count": 7,
   "id": "f87b27ed",
   "metadata": {},
   "outputs": [],
   "source": [
    "var = 'Los string pueden definirse con el caracter \"\" '"
   ]
  },
  {
   "cell_type": "code",
   "execution_count": 8,
   "id": "3062794a",
   "metadata": {},
   "outputs": [
    {
     "name": "stdout",
     "output_type": "stream",
     "text": [
      "Los string pueden definirse con el caracter \"\" \n"
     ]
    }
   ],
   "source": [
    "print(var)"
   ]
  },
  {
   "cell_type": "markdown",
   "id": "b6a905af",
   "metadata": {},
   "source": [
    "### 2. Indexación"
   ]
  },
  {
   "cell_type": "markdown",
   "id": "b2b2040b",
   "metadata": {},
   "source": [
    "En muchos tipos de datos en Python se puede acceder a elementos individuales de un conjunto ordenado de datos directamente mediante un índice numérico o un valor clave. Este proceso se denomina indexación.\n",
    "\n",
    "En Python, las cadenas son secuencias ordenadas de caracteres, y por lo tanto pueden ser indexadas de esta manera. Se puede acceder a los caracteres individuales de una cadena especificando el nombre de la cadena seguido de un número entre corchetes `[]`.\n",
    "\n",
    "El primer carácter de la cadena tiene el índice 0, el siguiente tiene el índice 1, y así sucesivamente. El índice del último carácter será la longitud de la cadena menos uno."
   ]
  },
  {
   "cell_type": "code",
   "execution_count": 9,
   "id": "568bed3a",
   "metadata": {},
   "outputs": [],
   "source": [
    "nombre = \"Santiago\""
   ]
  },
  {
   "cell_type": "code",
   "execution_count": 10,
   "id": "ec02acd4",
   "metadata": {},
   "outputs": [
    {
     "data": {
      "text/plain": [
       "'S'"
      ]
     },
     "execution_count": 10,
     "metadata": {},
     "output_type": "execute_result"
    }
   ],
   "source": [
    "nombre[0]"
   ]
  },
  {
   "cell_type": "code",
   "execution_count": 11,
   "id": "4dfc0a76",
   "metadata": {},
   "outputs": [
    {
     "data": {
      "text/plain": [
       "'n'"
      ]
     },
     "execution_count": 11,
     "metadata": {},
     "output_type": "execute_result"
    }
   ],
   "source": [
    "nombre[2]"
   ]
  },
  {
   "cell_type": "markdown",
   "id": "7de233ec",
   "metadata": {},
   "source": [
    "Tambien podemos utilizar números negativos para extraer caracteres por el final de la cadena de texto."
   ]
  },
  {
   "cell_type": "code",
   "execution_count": 12,
   "id": "9646d9cb",
   "metadata": {},
   "outputs": [
    {
     "data": {
      "text/plain": [
       "'o'"
      ]
     },
     "execution_count": 12,
     "metadata": {},
     "output_type": "execute_result"
    }
   ],
   "source": [
    "nombre[-1]"
   ]
  },
  {
   "cell_type": "code",
   "execution_count": 13,
   "id": "64644328",
   "metadata": {},
   "outputs": [
    {
     "data": {
      "text/plain": [
       "'a'"
      ]
     },
     "execution_count": 13,
     "metadata": {},
     "output_type": "execute_result"
    }
   ],
   "source": [
    "nombre[-3]"
   ]
  },
  {
   "cell_type": "markdown",
   "id": "ecb1dcac",
   "metadata": {},
   "source": [
    "### 3. Slicing"
   ]
  },
  {
   "cell_type": "markdown",
   "id": "69409be0",
   "metadata": {},
   "source": [
    "Python también permite una sintaxis específica de indexación que extrae subcadenas de una cadena de texto, a esto se denomina **slicing**. \n",
    "\n",
    "La sintaxis que se utiliza para extraer una subcadena de una cadena `s` es de la forma `s[m:n]`, esto devuelve la porción de `s` que comienza en la posición `m`, y termina en la posición `n` (sin ser incluido el último caracter)"
   ]
  },
  {
   "cell_type": "code",
   "execution_count": 14,
   "id": "0f87d7b9",
   "metadata": {},
   "outputs": [],
   "source": [
    "nombre = \"Miguel Gutierrez\""
   ]
  },
  {
   "cell_type": "code",
   "execution_count": 15,
   "id": "7f9d22f4",
   "metadata": {},
   "outputs": [
    {
     "data": {
      "text/plain": [
       "'Miguel'"
      ]
     },
     "execution_count": 15,
     "metadata": {},
     "output_type": "execute_result"
    }
   ],
   "source": [
    "nombre[0:6]"
   ]
  },
  {
   "cell_type": "code",
   "execution_count": 16,
   "id": "d714358e",
   "metadata": {},
   "outputs": [
    {
     "data": {
      "text/plain": [
       "'Gutierre'"
      ]
     },
     "execution_count": 16,
     "metadata": {},
     "output_type": "execute_result"
    }
   ],
   "source": [
    "nombre[-9:-1]"
   ]
  },
  {
   "cell_type": "markdown",
   "id": "c626a668",
   "metadata": {},
   "source": [
    "Si no indicamos uno de los números, lee hasta el final."
   ]
  },
  {
   "cell_type": "code",
   "execution_count": 17,
   "id": "3a87833a",
   "metadata": {},
   "outputs": [
    {
     "data": {
      "text/plain": [
       "'Gutierrez'"
      ]
     },
     "execution_count": 17,
     "metadata": {},
     "output_type": "execute_result"
    }
   ],
   "source": [
    "nombre[-9:]"
   ]
  },
  {
   "cell_type": "code",
   "execution_count": 18,
   "id": "c98ef6d9",
   "metadata": {},
   "outputs": [
    {
     "data": {
      "text/plain": [
       "'Gutierrez'"
      ]
     },
     "execution_count": 18,
     "metadata": {},
     "output_type": "execute_result"
    }
   ],
   "source": [
    "nombre[7:]"
   ]
  },
  {
   "cell_type": "code",
   "execution_count": 19,
   "id": "fd42b11a",
   "metadata": {},
   "outputs": [
    {
     "data": {
      "text/plain": [
       "'Miguel'"
      ]
     },
     "execution_count": 19,
     "metadata": {},
     "output_type": "execute_result"
    }
   ],
   "source": [
    "nombre[:6]"
   ]
  },
  {
   "cell_type": "markdown",
   "id": "76581ab4",
   "metadata": {},
   "source": [
    "### 4. Stride"
   ]
  },
  {
   "cell_type": "markdown",
   "id": "7a3d66e8",
   "metadata": {},
   "source": [
    "El stride es otra variante más del slicing. Si se añade un `:` adicional y un tercer índice, se designa una stride, que indica cuantos caracteres saltar hasta obtener el siguiente caracter."
   ]
  },
  {
   "cell_type": "code",
   "execution_count": 20,
   "id": "03913b87",
   "metadata": {},
   "outputs": [],
   "source": [
    "nombre = \"Miguel Gutierrez\""
   ]
  },
  {
   "cell_type": "code",
   "execution_count": 21,
   "id": "56c57986",
   "metadata": {},
   "outputs": [
    {
     "data": {
      "text/plain": [
       "'Mge'"
      ]
     },
     "execution_count": 21,
     "metadata": {},
     "output_type": "execute_result"
    }
   ],
   "source": [
    "nombre[0:6:2]"
   ]
  },
  {
   "cell_type": "code",
   "execution_count": 22,
   "id": "3973b382",
   "metadata": {},
   "outputs": [
    {
     "data": {
      "text/plain": [
       "'Miguel'"
      ]
     },
     "execution_count": 22,
     "metadata": {},
     "output_type": "execute_result"
    }
   ],
   "source": [
    "nombre[:6:1]"
   ]
  },
  {
   "cell_type": "code",
   "execution_count": 23,
   "id": "2349d06e",
   "metadata": {},
   "outputs": [
    {
     "data": {
      "text/plain": [
       "'Mu'"
      ]
     },
     "execution_count": 23,
     "metadata": {},
     "output_type": "execute_result"
    }
   ],
   "source": [
    "nombre[:6:3]"
   ]
  },
  {
   "cell_type": "markdown",
   "id": "55de24cd",
   "metadata": {},
   "source": [
    "### 5. Modificación de strings"
   ]
  },
  {
   "cell_type": "markdown",
   "id": "488eeba4",
   "metadata": {},
   "source": [
    "Un string es un tipo de dato que Python considera **inmutable**, esto quiere decir que no podemos modificar una parte de un string asociada a una variable"
   ]
  },
  {
   "cell_type": "code",
   "execution_count": 24,
   "id": "9f105c8e",
   "metadata": {},
   "outputs": [],
   "source": [
    "nombre = \"Santiago\""
   ]
  },
  {
   "cell_type": "code",
   "execution_count": 25,
   "id": "1dc27a01",
   "metadata": {},
   "outputs": [
    {
     "data": {
      "text/plain": [
       "'t'"
      ]
     },
     "execution_count": 25,
     "metadata": {},
     "output_type": "execute_result"
    }
   ],
   "source": [
    "nombre[3]"
   ]
  },
  {
   "cell_type": "code",
   "execution_count": 26,
   "id": "c6dc5459",
   "metadata": {},
   "outputs": [
    {
     "ename": "TypeError",
     "evalue": "'str' object does not support item assignment",
     "output_type": "error",
     "traceback": [
      "\u001b[0;31m---------------------------------------------------------------------------\u001b[0m",
      "\u001b[0;31mTypeError\u001b[0m                                 Traceback (most recent call last)",
      "\u001b[0;32m/var/folders/0n/1vmv8q013lj_t061lpprp8_40000gn/T/ipykernel_27832/2794166424.py\u001b[0m in \u001b[0;36m<module>\u001b[0;34m\u001b[0m\n\u001b[0;32m----> 1\u001b[0;31m \u001b[0mnombre\u001b[0m\u001b[0;34m[\u001b[0m\u001b[0;36m3\u001b[0m\u001b[0;34m]\u001b[0m \u001b[0;34m=\u001b[0m \u001b[0;34m\"e\"\u001b[0m\u001b[0;34m\u001b[0m\u001b[0;34m\u001b[0m\u001b[0m\n\u001b[0m",
      "\u001b[0;31mTypeError\u001b[0m: 'str' object does not support item assignment"
     ]
    }
   ],
   "source": [
    "nombre[3] = \"e\""
   ]
  },
  {
   "cell_type": "markdown",
   "id": "22196858",
   "metadata": {},
   "source": [
    "A pesar de que no pueda modificarse el contenido de un string, si puede asignarse un string diferente a la variable."
   ]
  },
  {
   "cell_type": "code",
   "execution_count": 27,
   "id": "203b2a03",
   "metadata": {},
   "outputs": [],
   "source": [
    "nombre = \"Juan\""
   ]
  },
  {
   "cell_type": "markdown",
   "id": "f61e4c48",
   "metadata": {},
   "source": [
    "### 6. Strings de múltiples líneas"
   ]
  },
  {
   "cell_type": "markdown",
   "id": "ec90e3d1",
   "metadata": {},
   "source": [
    "En algunas ocasiones es posible que queramos definir un string que tenga múltiples líneas. Existen varias formas de definir esto en Python."
   ]
  },
  {
   "cell_type": "markdown",
   "id": "8b0ab633",
   "metadata": {},
   "source": [
    "La forma más sencilla es introducir el caracter `\\n` en la posición de la cadena de texto donde queremos que se produzca el salto de línea."
   ]
  },
  {
   "cell_type": "code",
   "execution_count": 28,
   "id": "bc8de0da",
   "metadata": {},
   "outputs": [],
   "source": [
    "nombre = \"Miguel\\nGutierrez\\nIturriaga\""
   ]
  },
  {
   "cell_type": "code",
   "execution_count": 29,
   "id": "d62b3b32",
   "metadata": {},
   "outputs": [
    {
     "name": "stdout",
     "output_type": "stream",
     "text": [
      "Miguel\n",
      "Gutierrez\n",
      "Iturriaga\n"
     ]
    }
   ],
   "source": [
    "print(nombre)"
   ]
  },
  {
   "cell_type": "markdown",
   "id": "59d0d819",
   "metadata": {},
   "source": [
    "Otra opción interesante es situar nuestra cadena de texto entre los caracteres ```\"\"\"```."
   ]
  },
  {
   "cell_type": "code",
   "execution_count": 30,
   "id": "f4c1bde5",
   "metadata": {},
   "outputs": [],
   "source": [
    "nombre2 = \"\"\"Miguel\n",
    "Gutierrez\n",
    "Iturriaga\"\"\""
   ]
  },
  {
   "cell_type": "code",
   "execution_count": 31,
   "id": "10f38034",
   "metadata": {
    "scrolled": true
   },
   "outputs": [
    {
     "name": "stdout",
     "output_type": "stream",
     "text": [
      "Miguel\n",
      "Gutierrez\n",
      "Iturriaga\n"
     ]
    }
   ],
   "source": [
    "print(nombre2)"
   ]
  },
  {
   "cell_type": "code",
   "execution_count": null,
   "id": "ef7a7ec1",
   "metadata": {},
   "outputs": [],
   "source": []
  }
 ],
 "metadata": {
  "kernelspec": {
   "display_name": "Python 3 (ipykernel)",
   "language": "python",
   "name": "python3"
  },
  "language_info": {
   "codemirror_mode": {
    "name": "ipython",
    "version": 3
   },
   "file_extension": ".py",
   "mimetype": "text/x-python",
   "name": "python",
   "nbconvert_exporter": "python",
   "pygments_lexer": "ipython3",
   "version": "3.9.7"
  }
 },
 "nbformat": 4,
 "nbformat_minor": 5
}
