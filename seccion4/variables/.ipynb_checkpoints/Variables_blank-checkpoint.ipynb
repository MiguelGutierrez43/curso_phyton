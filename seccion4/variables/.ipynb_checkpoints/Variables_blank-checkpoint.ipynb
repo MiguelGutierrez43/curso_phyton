{
 "cells": [
  {
   "cell_type": "markdown",
   "id": "4c464d02",
   "metadata": {},
   "source": [
    "# Variables"
   ]
  },
  {
   "cell_type": "markdown",
   "id": "32c5a553",
   "metadata": {},
   "source": [
    "### 1. Variables en Python"
   ]
  },
  {
   "cell_type": "markdown",
   "id": "a8973b4e",
   "metadata": {},
   "source": [
    "Una variable es un elemento de un lenguaje de programación que tiene asignado un valor determinado. Para crear una variable en Python se le debe proporcionar un nombre y asignarle un valor utilizando el símbolo `=`"
   ]
  },
  {
   "cell_type": "code",
   "execution_count": 4,
   "id": "f6d22ceb",
   "metadata": {},
   "outputs": [],
   "source": [
    "var = (\"Hola Mundo\")"
   ]
  },
  {
   "cell_type": "code",
   "execution_count": 5,
   "id": "06065aa7",
   "metadata": {},
   "outputs": [
    {
     "name": "stdout",
     "output_type": "stream",
     "text": [
      "Hola Mundo\n"
     ]
    }
   ],
   "source": [
    "print(var)"
   ]
  },
  {
   "cell_type": "markdown",
   "id": "b9021523",
   "metadata": {},
   "source": [
    "El valor asignado a una variable puede cambiar a lo largo del programa escrito en Python"
   ]
  },
  {
   "cell_type": "code",
   "execution_count": 1,
   "id": "dd65c15a",
   "metadata": {},
   "outputs": [],
   "source": [
    "var = (\"Adios Mundo\")"
   ]
  },
  {
   "cell_type": "code",
   "execution_count": 2,
   "id": "f79ab8cf",
   "metadata": {},
   "outputs": [
    {
     "name": "stdout",
     "output_type": "stream",
     "text": [
      "Adios Mundo\n"
     ]
    }
   ],
   "source": [
    "print(var)"
   ]
  },
  {
   "cell_type": "markdown",
   "id": "8d42d636",
   "metadata": {},
   "source": [
    "### 2. Asignación múltiple"
   ]
  },
  {
   "cell_type": "markdown",
   "id": "86334719",
   "metadata": {},
   "source": [
    "Otra de las cosas que podemos hacer con las variables en Python es asignar una variable a otra variable diferente."
   ]
  },
  {
   "cell_type": "code",
   "execution_count": 3,
   "id": "8e1ef2ea",
   "metadata": {},
   "outputs": [],
   "source": [
    "var = \"Hola Mundo\""
   ]
  },
  {
   "cell_type": "code",
   "execution_count": 4,
   "id": "91e67bc8",
   "metadata": {},
   "outputs": [],
   "source": [
    "var2 = var"
   ]
  },
  {
   "cell_type": "code",
   "execution_count": 5,
   "id": "f12f5891",
   "metadata": {},
   "outputs": [
    {
     "name": "stdout",
     "output_type": "stream",
     "text": [
      "Hola Mundo\n"
     ]
    }
   ],
   "source": [
    "print(var)"
   ]
  },
  {
   "cell_type": "markdown",
   "id": "057878f6",
   "metadata": {},
   "source": [
    "En el caso que se acaba de mostrar en las celdas anteriores, la variable `var` y `var2` apuntan a la misma cadena de texto `Hola mundo`"
   ]
  },
  {
   "cell_type": "markdown",
   "id": "652756da",
   "metadata": {},
   "source": [
    "### 3. Sintaxis de las variables en Python"
   ]
  },
  {
   "cell_type": "markdown",
   "id": "b27c4a5f",
   "metadata": {},
   "source": [
    "Tal y como se ha introducido en la primera sección, para definir variables en Python se debe cumplir con las reglas sintácticas definidas por el leguaje. A continuación se indican las reglas que debemos cumplir cuando definimos el nombre de una variable:"
   ]
  },
  {
   "cell_type": "markdown",
   "id": "62426747",
   "metadata": {},
   "source": [
    "<div style=\"background-color:#D9EEFF;color:black;padding:2%;\">\n",
    "1. Los nombres de las variables en Python pueden tener cualquier longitud y pueden consistir en letras mayúsculas y minúsculas (A-Z, a-z), dígitos (0-9) y el carácter de subrayado (_)\n",
    "</div>"
   ]
  },
  {
   "cell_type": "code",
   "execution_count": 7,
   "id": "5e05769e",
   "metadata": {},
   "outputs": [
    {
     "name": "stdout",
     "output_type": "stream",
     "text": [
      "Hola mundo\n"
     ]
    }
   ],
   "source": [
    "_var = \"Hola mundo\"\n",
    "\n",
    "print(_var)"
   ]
  },
  {
   "cell_type": "code",
   "execution_count": 8,
   "id": "3a1aaae3",
   "metadata": {},
   "outputs": [
    {
     "name": "stdout",
     "output_type": "stream",
     "text": [
      "Hola mundo\n"
     ]
    }
   ],
   "source": [
    "vAr = \"Hola mundo\"\n",
    "\n",
    "print(vAr)"
   ]
  },
  {
   "cell_type": "code",
   "execution_count": 9,
   "id": "5eebe720",
   "metadata": {},
   "outputs": [
    {
     "name": "stdout",
     "output_type": "stream",
     "text": [
      "Hola mundo\n"
     ]
    }
   ],
   "source": [
    "var_2 = \"Hola mundo\"\n",
    "\n",
    "print(var_2)"
   ]
  },
  {
   "cell_type": "markdown",
   "id": "1d5dcd5a",
   "metadata": {},
   "source": [
    "Si no se cumple con estas reglas definidas en la sintaxis de Python, el intérprete de Python emitirá un error a la hora de ejecutar la sentencia"
   ]
  },
  {
   "cell_type": "code",
   "execution_count": 10,
   "id": "3d79fb2e",
   "metadata": {},
   "outputs": [
    {
     "ename": "SyntaxError",
     "evalue": "invalid syntax (975001854.py, line 1)",
     "output_type": "error",
     "traceback": [
      "\u001b[0;36m  File \u001b[0;32m\"/var/folders/0n/1vmv8q013lj_t061lpprp8_40000gn/T/ipykernel_26308/975001854.py\"\u001b[0;36m, line \u001b[0;32m1\u001b[0m\n\u001b[0;31m    var& = \"Hola mundo\"\u001b[0m\n\u001b[0m         ^\u001b[0m\n\u001b[0;31mSyntaxError\u001b[0m\u001b[0;31m:\u001b[0m invalid syntax\n"
     ]
    }
   ],
   "source": [
    "var& = \"Hola mundo\"\n",
    "\n",
    "print(var&)"
   ]
  },
  {
   "cell_type": "markdown",
   "id": "506afe75",
   "metadata": {},
   "source": [
    "<div style=\"background-color:#D9EEFF;color:black;padding:2%;\">\n",
    "2. Aunque el nombre de una variable puede contener dígitos, el primer carácter de un nombre de variable no puede ser un dígito.\n",
    "</div>"
   ]
  },
  {
   "cell_type": "code",
   "execution_count": 11,
   "id": "7cd3596e",
   "metadata": {},
   "outputs": [
    {
     "name": "stdout",
     "output_type": "stream",
     "text": [
      "Hola mundo\n"
     ]
    }
   ],
   "source": [
    "var2 = \"Hola mundo\"\n",
    "\n",
    "print(var2)"
   ]
  },
  {
   "cell_type": "markdown",
   "id": "7562aaae",
   "metadata": {},
   "source": [
    "<div style=\"background-color:#D9EEFF;color:black;padding:2%;\">\n",
    "3. El nombre de las variables en Python es sensible a mayúsculas y minúsculas\n",
    "</div>"
   ]
  },
  {
   "cell_type": "code",
   "execution_count": 12,
   "id": "1365ba54",
   "metadata": {},
   "outputs": [],
   "source": [
    "Var3 = \"Hola mundo\""
   ]
  },
  {
   "cell_type": "code",
   "execution_count": 13,
   "id": "488976c7",
   "metadata": {},
   "outputs": [
    {
     "ename": "NameError",
     "evalue": "name 'var3' is not defined",
     "output_type": "error",
     "traceback": [
      "\u001b[0;31m---------------------------------------------------------------------------\u001b[0m",
      "\u001b[0;31mNameError\u001b[0m                                 Traceback (most recent call last)",
      "\u001b[0;32m/var/folders/0n/1vmv8q013lj_t061lpprp8_40000gn/T/ipykernel_26308/3142973741.py\u001b[0m in \u001b[0;36m<module>\u001b[0;34m\u001b[0m\n\u001b[0;32m----> 1\u001b[0;31m \u001b[0mprint\u001b[0m\u001b[0;34m(\u001b[0m\u001b[0mvar3\u001b[0m\u001b[0;34m)\u001b[0m\u001b[0;34m\u001b[0m\u001b[0;34m\u001b[0m\u001b[0m\n\u001b[0m",
      "\u001b[0;31mNameError\u001b[0m: name 'var3' is not defined"
     ]
    }
   ],
   "source": [
    "print(var3)"
   ]
  },
  {
   "cell_type": "code",
   "execution_count": 14,
   "id": "cc183eec",
   "metadata": {},
   "outputs": [
    {
     "name": "stdout",
     "output_type": "stream",
     "text": [
      "Hola mundo\n"
     ]
    }
   ],
   "source": [
    "print(Var3)"
   ]
  },
  {
   "cell_type": "code",
   "execution_count": null,
   "id": "290cd752",
   "metadata": {},
   "outputs": [],
   "source": []
  }
 ],
 "metadata": {
  "kernelspec": {
   "display_name": "Python 3 (ipykernel)",
   "language": "python",
   "name": "python3"
  },
  "language_info": {
   "codemirror_mode": {
    "name": "ipython",
    "version": 3
   },
   "file_extension": ".py",
   "mimetype": "text/x-python",
   "name": "python",
   "nbconvert_exporter": "python",
   "pygments_lexer": "ipython3",
   "version": "3.9.7"
  }
 },
 "nbformat": 4,
 "nbformat_minor": 5
}
